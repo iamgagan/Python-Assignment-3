{
  "nbformat": 4,
  "nbformat_minor": 0,
  "metadata": {
    "colab": {
      "name": "Python Assignment 3.ipynb",
      "provenance": [],
      "collapsed_sections": []
    },
    "kernelspec": {
      "name": "python3",
      "display_name": "Python 3"
    },
    "language_info": {
      "name": "python"
    }
  },
  "cells": [
    {
      "cell_type": "markdown",
      "metadata": {
        "id": "MGH96F90bdxK"
      },
      "source": [
        "#1.1 Write a Python Program to implement your own myreduce() function which works exactly like Python's built-in function reduce()\n"
      ]
    },
    {
      "cell_type": "code",
      "metadata": {
        "colab": {
          "base_uri": "https://localhost:8080/"
        },
        "id": "e4vTuPaYbXHl",
        "outputId": "d67ee0b5-d48a-4f32-ba39-5702254d22d6"
      },
      "source": [
        "def myreduce(function, iterable, initializer=None):\n",
        "    it = iter(iterable)\n",
        "    if initializer is None:\n",
        "        value = next(it)\n",
        "    else:\n",
        "        value = initializer\n",
        "    for element in it:\n",
        "        value = function(value, element)\n",
        "    return value\n",
        " \n",
        "tup = (2,1,0,2,2,0,0,2)\n",
        "print(myreduce(lambda x, y: x+y, tup))"
      ],
      "execution_count": 5,
      "outputs": [
        {
          "output_type": "stream",
          "text": [
            "9\n"
          ],
          "name": "stdout"
        }
      ]
    },
    {
      "cell_type": "markdown",
      "metadata": {
        "id": "DoU14NiTcHRD"
      },
      "source": [
        "#1.2 Write a Python program to implement your own myfilter() function which works exactly like Python's built-in function filter()\n"
      ]
    },
    {
      "cell_type": "code",
      "metadata": {
        "id": "9R_CjAOZbppl"
      },
      "source": [
        "def myfilter(func, *iterable):\n",
        "    l = []\n",
        "    if func is None:\n",
        "        for i in iterable:\n",
        "            if i:\n",
        "                l.append(i)\n",
        "    else:\n",
        "        for i in iterable:\n",
        "            if isinstance(i, list) or isinstance(i, tuple):\n",
        "                for x in i:\n",
        "                    if func(x)==True:\n",
        "                        l.append(x)    \n",
        "    return(l)\n",
        "\n",
        "def isEven(x):\n",
        "    if x % 2 == 0:\n",
        "        return True\n",
        "    else:\n",
        "        return False\n",
        "\n",
        "def isOdd(x):\n",
        "    if x % 2 != 0:\n",
        "        return True\n",
        "    else:\n",
        "        return False        "
      ],
      "execution_count": 11,
      "outputs": []
    },
    {
      "cell_type": "code",
      "metadata": {
        "colab": {
          "base_uri": "https://localhost:8080/"
        },
        "id": "uWfYwcGTecaz",
        "outputId": "360365bb-d62f-4815-ef1a-9ba1a8fb8a16"
      },
      "source": [
        "print(myfilter(isEven,tup))"
      ],
      "execution_count": 10,
      "outputs": [
        {
          "output_type": "stream",
          "text": [
            "[2, 0, 2, 2, 0, 0, 2]\n"
          ],
          "name": "stdout"
        }
      ]
    },
    {
      "cell_type": "code",
      "metadata": {
        "colab": {
          "base_uri": "https://localhost:8080/"
        },
        "id": "um79eT6JepW7",
        "outputId": "dfc36a28-840f-41a0-cb3f-41138b984821"
      },
      "source": [
        "print(myfilter(isOdd,tup))"
      ],
      "execution_count": 12,
      "outputs": [
        {
          "output_type": "stream",
          "text": [
            "[1]\n"
          ],
          "name": "stdout"
        }
      ]
    },
    {
      "cell_type": "markdown",
      "metadata": {
        "id": "rv4YLbzMfUMM"
      },
      "source": [
        "#2. Implement List comprehensions to produce the following lists. Write List comprehensions to produce the following Lists\n"
      ]
    },
    {
      "cell_type": "markdown",
      "metadata": {
        "id": "KYNbwS4Rhjh7"
      },
      "source": [
        "###['x', 'xx', 'xxx', 'xxxx', 'y', 'yy', 'yyy', 'yyyy', 'z', 'zz', 'zzz', 'zzzz']"
      ]
    },
    {
      "cell_type": "code",
      "metadata": {
        "colab": {
          "base_uri": "https://localhost:8080/"
        },
        "id": "LvtUQpS6fQdm",
        "outputId": "5da648a0-6102-40ea-8e65-27b25faeee86"
      },
      "source": [
        "l1 = ['x','y','z']\n",
        "print(sorted([i for i in l1]+[i*2 for i in l1]+[i*3 for i in l1]+[i*4 for i in l1]))"
      ],
      "execution_count": 21,
      "outputs": [
        {
          "output_type": "stream",
          "text": [
            "['x', 'xx', 'xxx', 'xxxx', 'y', 'yy', 'yyy', 'yyyy', 'z', 'zz', 'zzz', 'zzzz']\n"
          ],
          "name": "stdout"
        }
      ]
    },
    {
      "cell_type": "markdown",
      "metadata": {
        "id": "p-SZyyQphssX"
      },
      "source": [
        "###['x', 'y', 'z', 'xx', 'yy', 'zz', 'xxx', 'yyy', 'zzz', 'xxxx', 'yyyy', 'zzzz']"
      ]
    },
    {
      "cell_type": "code",
      "metadata": {
        "colab": {
          "base_uri": "https://localhost:8080/"
        },
        "id": "8G_cMIDZgDFU",
        "outputId": "b53ef521-b41c-4099-b703-bed39cbc2083"
      },
      "source": [
        "l1 = ['x','y','z']\n",
        "print([i for i in l1]+[i*2 for i in l1]+[i*3 for i in l1]+[i*4 for i in l1])"
      ],
      "execution_count": 22,
      "outputs": [
        {
          "output_type": "stream",
          "text": [
            "['x', 'y', 'z', 'xx', 'yy', 'zz', 'xxx', 'yyy', 'zzz', 'xxxx', 'yyyy', 'zzzz']\n"
          ],
          "name": "stdout"
        }
      ]
    },
    {
      "cell_type": "markdown",
      "metadata": {
        "id": "2ArEbAGWh098"
      },
      "source": [
        "###[[2], [3], [4], [3], [4], [5], [4], [5], [6]]"
      ]
    },
    {
      "cell_type": "code",
      "metadata": {
        "colab": {
          "base_uri": "https://localhost:8080/"
        },
        "id": "6GuAT4LwhvZl",
        "outputId": "337590b6-785d-4fec-a319-51085436d0f5"
      },
      "source": [
        "print([[x+y] for x in range(2,5) for y in range(3)])"
      ],
      "execution_count": 29,
      "outputs": [
        {
          "output_type": "stream",
          "text": [
            "[[2], [3], [4], [3], [4], [5], [4], [5], [6]]\n"
          ],
          "name": "stdout"
        }
      ]
    },
    {
      "cell_type": "markdown",
      "metadata": {
        "id": "i5z43txFiF-Q"
      },
      "source": [
        "### [[2, 3, 4, 5], [3, 4, 5, 6], [4, 5, 6, 7], [5, 6, 7, 8]]"
      ]
    },
    {
      "cell_type": "code",
      "metadata": {
        "colab": {
          "base_uri": "https://localhost:8080/"
        },
        "id": "5hpkfqSXiFfW",
        "outputId": "6aaa260a-d5ab-43f9-dc01-04b5963e78ac"
      },
      "source": [
        "print([[a+b for a in range(2,6)] for b in range(4)])"
      ],
      "execution_count": 69,
      "outputs": [
        {
          "output_type": "stream",
          "text": [
            "[[2, 3, 4, 5], [3, 4, 5, 6], [4, 5, 6, 7], [5, 6, 7, 8]]\n"
          ],
          "name": "stdout"
        }
      ]
    },
    {
      "cell_type": "markdown",
      "metadata": {
        "id": "izVZzgQLiJBx"
      },
      "source": [
        "###[(1, 1), (2, 1), (3, 1), (1, 2), (2, 2), (3, 2), (1, 3), (2, 3), (3, 3)]"
      ]
    },
    {
      "cell_type": "code",
      "metadata": {
        "colab": {
          "base_uri": "https://localhost:8080/"
        },
        "id": "Bp7Ymv5ziHXr",
        "outputId": "3e9f47b0-fb45-4b97-f551-38de2a067e4e"
      },
      "source": [
        "print([(b,a) for a in range(1,4) for b in range(1,4)])"
      ],
      "execution_count": 80,
      "outputs": [
        {
          "output_type": "stream",
          "text": [
            "[(1, 1), (2, 1), (3, 1), (1, 2), (2, 2), (3, 2), (1, 3), (2, 3), (3, 3)]\n"
          ],
          "name": "stdout"
        }
      ]
    },
    {
      "cell_type": "code",
      "metadata": {
        "id": "mwi9l_x3nzmn"
      },
      "source": [
        ""
      ],
      "execution_count": null,
      "outputs": []
    }
  ]
}